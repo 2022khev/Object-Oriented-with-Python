{
 "cells": [
  {
   "cell_type": "code",
   "execution_count": 1,
   "id": "c537f508",
   "metadata": {},
   "outputs": [
    {
     "name": "stdout",
     "output_type": "stream",
     "text": [
      "this is display method\n"
     ]
    }
   ],
   "source": [
    "from abc import ABC,abstractmethod\n",
    "\n",
    "class A(ABC):\n",
    "    @abstractmethod\n",
    "    def display(self):\n",
    "        None\n",
    "class B(A):\n",
    "    def display(self):\n",
    "        print('this is display method')\n",
    "\n",
    "obj = B()\n",
    "obj.display()"
   ]
  },
  {
   "cell_type": "code",
   "execution_count": 2,
   "id": "b892b842",
   "metadata": {},
   "outputs": [
    {
     "name": "stdout",
     "output_type": "stream",
     "text": [
      "Eat No-Veg\n",
      "Eat Veg\n"
     ]
    }
   ],
   "source": [
    "from abc import ABC,abstractmethod\n",
    "\n",
    "class Animal(ABC):\n",
    "    \n",
    "    @abstractmethod\n",
    "    def eat(self):\n",
    "        pass\n",
    "    \n",
    "class Tiger(Animal):\n",
    "    def eat(self):\n",
    "        print('Eat No-Veg')\n",
    "        \n",
    "class Cow(Animal):\n",
    "    def eat(self):\n",
    "        print('Eat Veg')\n",
    "\n",
    "t=Tiger()\n",
    "t.eat()\n",
    "\n",
    "c = Cow()\n",
    "c.eat()"
   ]
  },
  {
   "cell_type": "code",
   "execution_count": 3,
   "id": "a17447ae",
   "metadata": {},
   "outputs": [
    {
     "ename": "TypeError",
     "evalue": "Can't instantiate abstract class Y with abstract methods m2",
     "output_type": "error",
     "traceback": [
      "\u001b[1;31m---------------------------------------------------------------------------\u001b[0m",
      "\u001b[1;31mTypeError\u001b[0m                                 Traceback (most recent call last)",
      "Cell \u001b[1;32mIn[3], line 14\u001b[0m\n\u001b[0;32m     12\u001b[0m     \u001b[38;5;28;01mdef\u001b[39;00m \u001b[38;5;21mm1\u001b[39m(\u001b[38;5;28mself\u001b[39m):\n\u001b[0;32m     13\u001b[0m         \u001b[38;5;28mprint\u001b[39m(\u001b[38;5;124m'\u001b[39m\u001b[38;5;124mThis is m1\u001b[39m\u001b[38;5;124m'\u001b[39m)\n\u001b[1;32m---> 14\u001b[0m y\u001b[38;5;241m=\u001b[39m\u001b[43mY\u001b[49m\u001b[43m(\u001b[49m\u001b[43m)\u001b[49m\n\u001b[0;32m     15\u001b[0m y\u001b[38;5;241m.\u001b[39mm1()\n",
      "\u001b[1;31mTypeError\u001b[0m: Can't instantiate abstract class Y with abstract methods m2"
     ]
    }
   ],
   "source": [
    "from abc import ABC,abstractmethod\n",
    "class x(ABC):\n",
    "    \n",
    "    @abstractmethod\n",
    "    def m1(self):\n",
    "        pass\n",
    "           \n",
    "    @abstractmethod\n",
    "    def m2(self):\n",
    "        pass\n",
    "class Y(x):\n",
    "    def m1(self):\n",
    "        print('This is m1')\n",
    "y=Y()\n",
    "y.m1()"
   ]
  },
  {
   "cell_type": "code",
   "execution_count": null,
   "id": "ee6f36d1",
   "metadata": {},
   "outputs": [],
   "source": [
    "from abc import ABC,abstractmethod\n",
    "class x(ABC):\n",
    "    \n",
    "    @abstractmethod\n",
    "    def m1(self):\n",
    "        pass\n",
    "           \n",
    "    @abstractmethod\n",
    "    def m2(self):\n",
    "        pass\n",
    "\n",
    "class Y(x):\n",
    "    def m1(self):\n",
    "        print('This is m1')\n",
    "    \n",
    "class Z(Y):\n",
    "    def m2(self):\n",
    "        print('This is m2')\n",
    "\n",
    "zobj =Z()\n",
    "zobj.m1()\n",
    "zobj.m2()"
   ]
  },
  {
   "cell_type": "code",
   "execution_count": 4,
   "id": "8b71afbf",
   "metadata": {},
   "outputs": [
    {
     "name": "stdout",
     "output_type": "stream",
     "text": [
      "200\n",
      "90\n"
     ]
    }
   ],
   "source": [
    "from abc import ABC,abstractmethod\n",
    "\n",
    "class Cal(ABC):\n",
    "    def __init__ (self,value):\n",
    "        self.value = value\n",
    "    \n",
    "    @abstractmethod\n",
    "    def add(self):\n",
    "        pass\n",
    "    \n",
    "    @abstractmethod\n",
    "    def sub(self):\n",
    "        pass\n",
    "    \n",
    "class c(Cal):\n",
    "    def add(self):\n",
    "        print(self.value +100)\n",
    "        \n",
    "    def sub(self):\n",
    "        print(self.value -10)\n",
    "        \n",
    "cobj = c(100)\n",
    "cobj.add()\n",
    "cobj.sub()  "
   ]
  }
 ],
 "metadata": {
  "kernelspec": {
   "display_name": "Python 3 (ipykernel)",
   "language": "python",
   "name": "python3"
  },
  "language_info": {
   "codemirror_mode": {
    "name": "ipython",
    "version": 3
   },
   "file_extension": ".py",
   "mimetype": "text/x-python",
   "name": "python",
   "nbconvert_exporter": "python",
   "pygments_lexer": "ipython3",
   "version": "3.8.16"
  }
 },
 "nbformat": 4,
 "nbformat_minor": 5
}
