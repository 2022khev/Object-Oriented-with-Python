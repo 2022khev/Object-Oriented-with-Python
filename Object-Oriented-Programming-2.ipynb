{
 "cells": [
  {
   "cell_type": "code",
   "execution_count": 1,
   "id": "6e4817f8",
   "metadata": {},
   "outputs": [
    {
     "name": "stdout",
     "output_type": "stream",
     "text": [
      "Kelvin\n",
      "Sang\n",
      "Statistics\n",
      "2550\n",
      "3646.5\n"
     ]
    }
   ],
   "source": [
    "class Employee:\n",
    "    def __init__ (self,Name,Second,Department,Salary):\n",
    "        self.Name = Name\n",
    "        self.Second = Second\n",
    "        self.Department= Department\n",
    "        self.Salary = Salary\n",
    "        \n",
    "    def pay_sal(self):\n",
    "        self.Salary = float(self.Salary * 1.43) \n",
    "    \n",
    "emp1= Employee('Kelvin','Sang','Statistics',2550)\n",
    "\n",
    "print(emp1.Name)\n",
    "print(emp1.Second)\n",
    "print(emp1.Department)\n",
    "  \n",
    "print(emp1.Salary)\n",
    "emp1.pay_sal()\n",
    "print(emp1.Salary)"
   ]
  },
  {
   "cell_type": "code",
   "execution_count": 2,
   "id": "82a6b456",
   "metadata": {},
   "outputs": [
    {
     "name": "stdout",
     "output_type": "stream",
     "text": [
      "Kelvin\n",
      "Sang\n",
      "Statistics\n",
      "2550\n",
      "3570.0\n"
     ]
    }
   ],
   "source": [
    "sal_increment = 1.4\n",
    "class Employee:\n",
    "    def __init__ (self,Name,Second,Department,Salary):\n",
    "        self.Name = Name\n",
    "        self.Second = Second\n",
    "        self.Department= Department\n",
    "        self.Salary = Salary\n",
    "        \n",
    "    def pay_sal(self):\n",
    "        self.Salary = float(self.Salary * sal_increment) \n",
    "    \n",
    "emp1= Employee('Kelvin','Sang','Statistics',2550)\n",
    "\n",
    "print(emp1.Name)\n",
    "print(emp1.Second)\n",
    "print(emp1.Department)\n",
    "  \n",
    "print(emp1.Salary)\n",
    "emp1.pay_sal()\n",
    "print(emp1.Salary)"
   ]
  },
  {
   "cell_type": "code",
   "execution_count": 3,
   "id": "115e8635",
   "metadata": {},
   "outputs": [
    {
     "name": "stdout",
     "output_type": "stream",
     "text": [
      "Kelvin\n",
      "Sang\n",
      "Statistics\n",
      "2550\n",
      "3570.0\n"
     ]
    }
   ],
   "source": [
    "class Employee:\n",
    "    def __init__ (self,Name,Second,Department,Salary):\n",
    "        self.sal_increment = 1.4\n",
    "        self.Name = Name\n",
    "        self.Second = Second\n",
    "        self.Department= Department\n",
    "        self.Salary = Salary\n",
    "        \n",
    "    def pay_sal(self):\n",
    "        self.Salary = float(self.Salary * sal_increment) \n",
    "    \n",
    "emp1= Employee('Kelvin','Sang','Statistics',2550)\n",
    "\n",
    "print(emp1.Name)\n",
    "print(emp1.Second)\n",
    "print(emp1.Department)\n",
    "  \n",
    "print(emp1.Salary)\n",
    "emp1.pay_sal()\n",
    "print(emp1.Salary)"
   ]
  },
  {
   "cell_type": "code",
   "execution_count": 4,
   "id": "4d74c382",
   "metadata": {},
   "outputs": [
    {
     "name": "stdout",
     "output_type": "stream",
     "text": [
      "{'sal_increment': 1.4, 'Name': 'Kelvin', 'Second': 'Sang', 'Department': 'Statistics', 'Salary': 2550}\n"
     ]
    }
   ],
   "source": [
    "class Employee:\n",
    "    def __init__ (self,Name,Second,Department,Salary):\n",
    "        self.sal_increment = 1.4\n",
    "        self.Name = Name\n",
    "        self.Second = Second\n",
    "        self.Department= Department\n",
    "        self.Salary = Salary\n",
    "        \n",
    "    def pay_sal(self):\n",
    "        self.Salary = float(self.Salary * sal_increment) \n",
    "    \n",
    "emp1= Employee('Kelvin','Sang','Statistics',2550)\n",
    "\n",
    "print(emp1.__dict__)"
   ]
  },
  {
   "cell_type": "code",
   "execution_count": 5,
   "id": "bdf7b7b9",
   "metadata": {},
   "outputs": [
    {
     "data": {
      "text/plain": [
       "{'sal_increment': 1.4,\n",
       " 'Name': 'Kelvin',\n",
       " 'Second': 'Sang',\n",
       " 'Department': 'Statistics',\n",
       " 'Salary': 2550}"
      ]
     },
     "execution_count": 5,
     "metadata": {},
     "output_type": "execute_result"
    }
   ],
   "source": [
    "import pandas as pd\n",
    "k=emp1.__dict__\n",
    "k"
   ]
  }
 ],
 "metadata": {
  "kernelspec": {
   "display_name": "Python 3 (ipykernel)",
   "language": "python",
   "name": "python3"
  },
  "language_info": {
   "codemirror_mode": {
    "name": "ipython",
    "version": 3
   },
   "file_extension": ".py",
   "mimetype": "text/x-python",
   "name": "python",
   "nbconvert_exporter": "python",
   "pygments_lexer": "ipython3",
   "version": "3.8.16"
  }
 },
 "nbformat": 4,
 "nbformat_minor": 5
}
