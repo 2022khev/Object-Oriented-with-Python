{
 "cells": [
  {
   "cell_type": "code",
   "execution_count": 1,
   "id": "1bd63e3d",
   "metadata": {},
   "outputs": [
    {
     "name": "stdout",
     "output_type": "stream",
     "text": [
      "This rabbit is eating a carrot\n"
     ]
    }
   ],
   "source": [
    "#Method overriding\n",
    "class Animal:\n",
    "    def eat(self):\n",
    "        print(\"This animal  is eating\")\n",
    "        \n",
    "class Rabbit(Animal):\n",
    "    pass\n",
    "    \n",
    "    def eat(self):\n",
    "        print(\"This rabbit is eating a carrot\")\n",
    "rabbit = Rabbit()\n",
    "rabbit.eat()             "
   ]
  },
  {
   "cell_type": "code",
   "execution_count": 2,
   "id": "19b917d4",
   "metadata": {},
   "outputs": [
    {
     "name": "stdout",
     "output_type": "stream",
     "text": [
      "in B show\n"
     ]
    }
   ],
   "source": [
    "class A:\n",
    "    def show(self):\n",
    "        print('in a show')  \n",
    "class B(A):\n",
    "    def show(self):\n",
    "        print('in B show')\n",
    "\n",
    "a1 = B()\n",
    "a1.show()"
   ]
  },
  {
   "cell_type": "code",
   "execution_count": 3,
   "id": "0f71f9fe",
   "metadata": {},
   "outputs": [],
   "source": [
    "# Method Overloading"
   ]
  },
  {
   "cell_type": "code",
   "execution_count": 4,
   "id": "47c8fa94",
   "metadata": {},
   "outputs": [
    {
     "name": "stdout",
     "output_type": "stream",
     "text": [
      "22\n"
     ]
    }
   ],
   "source": [
    "class student:\n",
    "    \n",
    "    def __init__(self,m1,m2):\n",
    "        self.m1 = m1\n",
    "        self.m2 = m2\n",
    "    s = 0    \n",
    "    def sum(self,a=None,b=None,c=None):\n",
    "        if a!=None and b!=None and c!=None:\n",
    "            s = a + b + c\n",
    "        elif a!=None and b!=None:\n",
    "            s = a + b    \n",
    "        else:\n",
    "            s = a\n",
    "        return s\n",
    "\n",
    "s1 = student(58,69)\n",
    "print(s1.sum(5,8,9))"
   ]
  }
 ],
 "metadata": {
  "kernelspec": {
   "display_name": "Python 3 (ipykernel)",
   "language": "python",
   "name": "python3"
  },
  "language_info": {
   "codemirror_mode": {
    "name": "ipython",
    "version": 3
   },
   "file_extension": ".py",
   "mimetype": "text/x-python",
   "name": "python",
   "nbconvert_exporter": "python",
   "pygments_lexer": "ipython3",
   "version": "3.8.16"
  }
 },
 "nbformat": 4,
 "nbformat_minor": 5
}
