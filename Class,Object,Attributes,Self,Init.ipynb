{
 "cells": [
  {
   "cell_type": "code",
   "execution_count": 1,
   "id": "8210dbf5",
   "metadata": {},
   "outputs": [
    {
     "name": "stdout",
     "output_type": "stream",
     "text": [
      "50000\n",
      "52000\n"
     ]
    }
   ],
   "source": [
    "class Employee:# data structure/data type class\n",
    "    def __init__(self,first,last,pay):\n",
    "        self.last = last\n",
    "        self.pay = pay\n",
    "        self.email = first +'.'+ last+ '@company.com'\n",
    "    def fullname(self):\n",
    "        return '{}{}'.format(self.first,self.last)\n",
    "    \n",
    "    def apply_raise(self):\n",
    "        self.pay = int(self.pay * 1.04)  \n",
    "        \n",
    "emp_1 = Employee('Corey','Schafer',50000)\n",
    "emp_2 = Employee('Test','User',60000)\n",
    "\n",
    "print(emp_1.pay)\n",
    "emp_1.apply_raise()\n",
    "print(emp_1.pay)"
   ]
  },
  {
   "cell_type": "code",
   "execution_count": 2,
   "id": "cb37af77",
   "metadata": {},
   "outputs": [
    {
     "name": "stdout",
     "output_type": "stream",
     "text": [
      "50000\n",
      "52000\n"
     ]
    }
   ],
   "source": [
    "class Employee:# data structure/data type class\n",
    "    raise_amount = 1.04\n",
    "    def __init__(self,first,last,pay):\n",
    "        self.first = first\n",
    "        self.last = last\n",
    "        self.pay = pay\n",
    "        self.email = first +'.'+ last+ '@company.com'\n",
    "    def fullname(self):\n",
    "        return '{}{}'.format(self.first,self.last)\n",
    "    \n",
    "    def apply_raise(self):\n",
    "        self.pay = int(self.pay * Employee.raise_amount)  \n",
    "        \n",
    "emp_1 = Employee('Corey','Schafer',50000)\n",
    "emp_2 = Employee('Test','User',60000)\n",
    "\n",
    "print(emp_1.pay)\n",
    "emp_1.apply_raise()\n",
    "print(emp_1.pay)"
   ]
  },
  {
   "cell_type": "code",
   "execution_count": 3,
   "id": "31293c09",
   "metadata": {},
   "outputs": [
    {
     "name": "stdout",
     "output_type": "stream",
     "text": [
      "50000\n",
      "52000\n"
     ]
    }
   ],
   "source": [
    "class Employee:# data structure/data type class\n",
    "    raise_amount = 1.04\n",
    "    def __init__(self,first,last,pay):\n",
    "        self.first = first\n",
    "        self.last = last\n",
    "        self.pay = pay\n",
    "        self.email = first +'.'+ last+ '@company.com'\n",
    "    def fullname(self):\n",
    "        return '{}{}'.format(self.first,self.last)\n",
    "    \n",
    "    def apply_raise(self):\n",
    "        self.pay = int(self.pay * self.raise_amount)  \n",
    "        \n",
    "emp_1 = Employee('Corey','Schafer',50000)\n",
    "emp_2 = Employee('Test','User',60000)\n",
    "\n",
    "print(emp_1.pay)\n",
    "emp_1.apply_raise()\n",
    "print(emp_1.pay)"
   ]
  },
  {
   "cell_type": "code",
   "execution_count": 4,
   "id": "0b20333a",
   "metadata": {},
   "outputs": [
    {
     "name": "stdout",
     "output_type": "stream",
     "text": [
      "50000\n",
      "52000\n",
      "62400\n"
     ]
    }
   ],
   "source": [
    "class Employee:#data structure \n",
    "    def __init__(self,first,last,pay): #__init__ for automatically instantiate class and self instantiating object\n",
    "        self.first = first # instatiate attribute last \n",
    "        self.last = last # instatiate attribute last \n",
    "        self.pay = pay # instastiate attribute pay\n",
    "        self.email = first +'.'+ last+ '@company.com' # instastiate attribute email\n",
    "    def fullname(self): #method instatiated by self\n",
    "        return '{}{}'.format(self.first,self.last) #method that return email address\n",
    "    \n",
    "    def apply_raise(self): #another method that multplies pay by 0.4%\n",
    "        self.pay = int(self.pay * 1.04)  \n",
    "        \n",
    "emp_1 = Employee('Corey','Schafer',50000) #attaching attributes \n",
    "emp_2 = Employee('Test','User',60000) #attaching \n",
    "\n",
    "print(emp_1.pay)\n",
    "emp_1.apply_raise()\n",
    "emp_2.apply_raise()\n",
    "print(emp_1.pay)\n",
    "print(emp_2.pay)"
   ]
  },
  {
   "cell_type": "code",
   "execution_count": 5,
   "id": "67daac3a",
   "metadata": {},
   "outputs": [
    {
     "name": "stdout",
     "output_type": "stream",
     "text": [
      "1.04\n",
      "1.04\n",
      "1.04\n"
     ]
    }
   ],
   "source": [
    "class Employee:#data structure\n",
    "    raise_amount = 1.04\n",
    "    def __init__(self,first,last,pay): #__init__ for automatically instantiate class and self instantiating object\n",
    "        self.first = first # instatiate attribute last \n",
    "        self.last = last # instatiate attribute last \n",
    "        self.pay = pay # instastiate attribute pay\n",
    "        self.email = first +'.'+ last+ '@company.com' # instastiate attribute email\n",
    "    def fullname(self): #method instatiated by self\n",
    "        return '{}{}'.format(self.first,self.last) #method that return email address\n",
    "    \n",
    "    def apply_raise(self): #another method that multplies pay by 0.4%\n",
    "        self.pay = int(self.pay * 1.04)  \n",
    "        \n",
    "emp_1 = Employee('Corey','Schafer',50000) #attaching attributes \n",
    "emp_2 = Employee('Test','User',60000) #attaching \n",
    "\n",
    "emp_1.apply_raise()\n",
    "emp_2.apply_raise()\n",
    "\n",
    "print(Employee.raise_amount)\n",
    "print(emp_1.raise_amount)\n",
    "print(emp_2.raise_amount)"
   ]
  },
  {
   "cell_type": "code",
   "execution_count": 6,
   "id": "9b4a87d6",
   "metadata": {},
   "outputs": [
    {
     "name": "stdout",
     "output_type": "stream",
     "text": [
      "{'first': 'Corey', 'last': 'Schafer', 'pay': 52000, 'email': 'Corey.Schafer@company.com'}\n"
     ]
    }
   ],
   "source": [
    "class Employee:#data structure\n",
    "    raise_amount = 1.04\n",
    "    def __init__(self,first,last,pay): #__init__ for automatically instantiate class and self instantiating object\n",
    "        self.first = first # instatiate attribute last \n",
    "        self.last = last # instatiate attribute last \n",
    "        self.pay = pay # instastiate attribute pay\n",
    "        self.email = first +'.'+ last+ '@company.com' # instastiate attribute email\n",
    "    def fullname(self): #method instatiated by self\n",
    "        return '{}{}'.format(self.first,self.last) #method that return email address\n",
    "    \n",
    "    def apply_raise(self): #another method that multplies pay by 0.4%\n",
    "        self.pay = int(self.pay * 1.04)  \n",
    "        \n",
    "emp_1 = Employee('Corey','Schafer',50000) #attaching attributes \n",
    "emp_2 = Employee('Test','User',60000) #attaching \n",
    "\n",
    "emp_1.apply_raise()\n",
    "emp_2.apply_raise()\n",
    "\n",
    "print(emp_1.__dict__)"
   ]
  },
  {
   "cell_type": "code",
   "execution_count": 7,
   "id": "44029687",
   "metadata": {},
   "outputs": [
    {
     "name": "stdout",
     "output_type": "stream",
     "text": [
      "{'first': 'Corey', 'last': 'Schafer', 'pay': 52000, 'email': 'Corey.Schafer@company.com'}\n",
      "1.04\n",
      "1.04\n"
     ]
    }
   ],
   "source": [
    "class Employee:#data structure\n",
    "    raise_amount = 1.04\n",
    "    def __init__(self,first,last,pay): #__init__ for automatically instantiate class and self instantiating object\n",
    "        self.first = first # instatiate attribute last \n",
    "        self.last = last # instatiate attribute last \n",
    "        self.pay = pay # instastiate attribute pay\n",
    "        self.email = first +'.'+ last+ '@company.com' # instastiate attribute email\n",
    "    def fullname(self): #method instatiated by self\n",
    "        return '{}{}'.format(self.first,self.last) #method that return email address\n",
    "    \n",
    "    def apply_raise(self): #another method that multplies pay by 0.4%\n",
    "        self.pay = int(self.pay * 1.04)\n",
    "        \n",
    "        \n",
    "        \n",
    "emp_1 = Employee('Corey','Schafer',50000) #attaching attributes \n",
    "emp_2 = Employee('Test','User',60000) #attaching \n",
    "\n",
    "emp_1.apply_raise()\n",
    "emp_2.apply_raise()\n",
    "\n",
    "print(emp_1.__dict__)\n",
    "print(emp_1.raise_amount)\n",
    "print(emp_2.raise_amount)"
   ]
  },
  {
   "cell_type": "code",
   "execution_count": 8,
   "id": "4e493c06",
   "metadata": {},
   "outputs": [
    {
     "name": "stdout",
     "output_type": "stream",
     "text": [
      "JKUAT University\n",
      "52.5\n",
      "Kelvin\n",
      "KU University\n",
      "63.0\n",
      "Vivian\n"
     ]
    }
   ],
   "source": [
    "class student:\n",
    "    def __init__(self,school,name,marks):\n",
    "        self.school = school\n",
    "        self.name = name\n",
    "        self.marks = marks\n",
    "        \n",
    "    def fullname(self):\n",
    "        return '{}{}'.format(self.school,self.name)\n",
    "        \n",
    "    def apply_raise(self):\n",
    "        self.marks = float(self.marks * 1.05)\n",
    "    \n",
    "stud_1 = student('JKUAT University','Kelvin',50)\n",
    "stud_2 = student('KU University','Vivian',60)\n",
    "\n",
    "\n",
    "\n",
    "stud_1.apply_raise()\n",
    "stud_2.apply_raise()\n",
    "\n",
    "print(stud_1.school)\n",
    "print(stud_1.marks)\n",
    "print(stud_1.name)\n",
    "\n",
    "print(stud_2.school)\n",
    "print(stud_2.marks)\n",
    "print(stud_2.name)"
   ]
  },
  {
   "cell_type": "code",
   "execution_count": 9,
   "id": "50a9ebe7",
   "metadata": {},
   "outputs": [
    {
     "name": "stdout",
     "output_type": "stream",
     "text": [
      "{'first': 'Corey', 'last': 'Schafer', 'pay': 52000, 'email': 'Corey.Schafer@company.com'}\n",
      "1.04\n",
      "1.04\n"
     ]
    }
   ],
   "source": [
    "class Employee:#data structure\n",
    "    raise_amount = 1.04\n",
    "    def __init__(self,first,last,pay): #__init__ for automatically instantiate class and self instantiating object\n",
    "        self.first = first # instatiate attribute last \n",
    "        self.last = last # instatiate attribute last \n",
    "        self.pay = pay # instastiate attribute pay\n",
    "        self.email = first +'.'+ last+ '@company.com' # instastiate attribute email\n",
    "    def fullname(self): #method instatiated by self\n",
    "        return '{}{}'.format(self.first,self.last) #method that return email address\n",
    "    \n",
    "    def apply_raise(self): #another method that multplies pay by 0.4%\n",
    "        self.pay = int(self.pay * 1.04)\n",
    "        \n",
    "        \n",
    "        \n",
    "emp_1 = Employee('Corey','Schafer',50000) #attaching attributes \n",
    "emp_2 = Employee('Test','User',60000) #attaching \n",
    "\n",
    "emp_1.apply_raise()\n",
    "emp_2.apply_raise()\n",
    "\n",
    "print(emp_1.__dict__)\n",
    "print(emp_1.raise_amount)\n",
    "print(emp_2.raise_amount)"
   ]
  }
 ],
 "metadata": {
  "kernelspec": {
   "display_name": "Python 3 (ipykernel)",
   "language": "python",
   "name": "python3"
  },
  "language_info": {
   "codemirror_mode": {
    "name": "ipython",
    "version": 3
   },
   "file_extension": ".py",
   "mimetype": "text/x-python",
   "name": "python",
   "nbconvert_exporter": "python",
   "pygments_lexer": "ipython3",
   "version": "3.9.12"
  }
 },
 "nbformat": 4,
 "nbformat_minor": 5
}
